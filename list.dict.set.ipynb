{
 "cells": [
  {
   "cell_type": "code",
   "execution_count": 1,
   "id": "1f5cf429-59b0-441e-af92-7846754541ff",
   "metadata": {},
   "outputs": [],
   "source": [
    "def initialize_inventory(products):\n",
    "    \"\"\"\n",
    "    Initialize the inventory using dictionary comprehension.\n",
    "    :products: List of product names\n",
    "    :return: Dictionary with products and their quantities\n",
    "    \"\"\"\n",
    "    inventory = {product: int(input(f\"Enter the quantity of {product}s available: \")) for product in products}\n",
    "    return inventory\n"
   ]
  },
  {
   "cell_type": "code",
   "execution_count": 3,
   "id": "77e87de8-395f-4b4c-8e56-74d20d2b321a",
   "metadata": {},
   "outputs": [],
   "source": [
    "def get_customer_orders():\n",
    "    \"\"\"\n",
    "    Gather customer orders.\n",
    "    :return: List of products ordered.\n",
    "    \"\"\"\n",
    "    num_orders = int(input(\"Enter the number of customer orders: \"))\n",
    "    customer_orders = [input(f\"Enter the name of a product that a customer wants to order: \").lower() for _ in range(num_orders)]\n",
    "    return customer_orders\n"
   ]
  },
  {
   "cell_type": "code",
   "execution_count": 5,
   "id": "f2b3fc2a-0c87-4c0a-9e7f-28ada7332ca5",
   "metadata": {},
   "outputs": [],
   "source": [
    "def calculate_total_price(customer_orders):\n",
    "    \"\"\"\n",
    "    Calculate the total price of the customer orders.\n",
    "    :customer_orders: List of products ordered.\n",
    "    :return: Total price of all customer orders\n",
    "    \"\"\"\n",
    "    prices = [float(input(f\"Enter the price of {product}: \")) for product in customer_orders]\n",
    "    total_price = sum(prices)\n",
    "    return total_price\n"
   ]
  },
  {
   "cell_type": "code",
   "execution_count": 7,
   "id": "62248353-58ce-4f13-b9d8-bad9228c6d33",
   "metadata": {},
   "outputs": [],
   "source": [
    "def update_inventory(customer_orders, inventory):\n",
    "    \"\"\"\n",
    "    Update the inventory based on customer orders and remove products with a quantity of zero.\n",
    "    :customer_orders: List of customer orders\n",
    "    :inventory: Dictionary containing products and their quantities\n",
    "    :return: Updated inventory with products having non-zero quantities\n",
    "    \"\"\"\n",
    "    # Update inventory by decrementing the quantity for each ordered product\n",
    "    for product in customer_orders:\n",
    "        if product in inventory and inventory[product] > 0:\n",
    "            inventory[product] -= 1\n",
    "\n",
    "    # Filter out products with quantity zero\n",
    "    inventory = {product: quantity for product, quantity in inventory.items() if quantity > 0}\n",
    "    return inventory\n"
   ]
  },
  {
   "cell_type": "code",
   "execution_count": 9,
   "id": "930e0cf7-2ef8-41c3-a331-02e40f810e68",
   "metadata": {},
   "outputs": [
    {
     "name": "stdin",
     "output_type": "stream",
     "text": [
      "Enter the quantity of t-shirts available:  74\n",
      "Enter the quantity of mugs available:  85\n",
      "Enter the quantity of hats available:  96\n",
      "Enter the quantity of books available:  41\n",
      "Enter the quantity of keychains available:  52\n",
      "Enter the number of customer orders:  2\n",
      "Enter the name of a product that a customer wants to order:  hat\n",
      "Enter the name of a product that a customer wants to order:  mug\n"
     ]
    },
    {
     "name": "stdout",
     "output_type": "stream",
     "text": [
      "Order Statistics:\n",
      "Total Products Ordered: 2\n",
      "Percentage of Unique Products Ordered: 40.0%\n",
      "Updated Inventory:\n",
      "t-shirt: 74\n",
      "mug: 84\n",
      "hat: 95\n",
      "book: 41\n",
      "keychain: 52\n"
     ]
    },
    {
     "name": "stdin",
     "output_type": "stream",
     "text": [
      "Enter the price of hat:  15\n",
      "Enter the price of mug:  10\n"
     ]
    },
    {
     "name": "stdout",
     "output_type": "stream",
     "text": [
      "\n",
      "Total Price: 25.00\n"
     ]
    }
   ],
   "source": [
    "def print_order_statistics(customer_orders, products):\n",
    "    \"\"\"\n",
    "    Print the order statistics.\n",
    "    \"\"\"\n",
    "    total_products_ordered = len(customer_orders)\n",
    "    unique_products_ordered = len(set(customer_orders))\n",
    "    total_available_products = len(products)\n",
    "    percentage_ordered = (unique_products_ordered / total_available_products) * 100\n",
    "\n",
    "    print(\"Order Statistics:\")\n",
    "    print(f\"Total Products Ordered: {total_products_ordered}\")\n",
    "    print(f\"Percentage of Unique Products Ordered: {percentage_ordered:}%\")\n",
    "\n",
    "def print_updated_inventory(inventory):\n",
    "    \"\"\"\n",
    "    Print the updated inventory.\n",
    "    \"\"\"\n",
    "    print(\"Updated Inventory:\")\n",
    "    for product, quantity in inventory.items():\n",
    "        print(f\"{product}: {quantity}\")\n",
    "\n",
    "\n",
    "products = [\"t-shirt\", \"mug\", \"hat\", \"book\", \"keychain\"]\n",
    "\n",
    "    # Initialize inventory\n",
    "inventory = initialize_inventory(products)\n",
    "\n",
    "    # Get customer orders\n",
    "customer_orders = get_customer_orders()\n",
    "\n",
    "    # Update inventory based on customer orders\n",
    "inventory = update_inventory(customer_orders, inventory)\n",
    "\n",
    "    # Print order statistics\n",
    "print_order_statistics(customer_orders, products)\n",
    "\n",
    "    # Print updated inventory\n",
    "print_updated_inventory(inventory)\n",
    "\n",
    "    # Calculate and print total price\n",
    "total_price = calculate_total_price(customer_orders)\n",
    "print(f\"\\nTotal Price: {total_price:.2f}\")\n"
   ]
  },
  {
   "cell_type": "code",
   "execution_count": null,
   "id": "9528b6ca-f489-4cb5-9d3b-73d83a41cc87",
   "metadata": {},
   "outputs": [],
   "source": []
  }
 ],
 "metadata": {
  "kernelspec": {
   "display_name": "Python 3",
   "language": "python",
   "name": "python3"
  },
  "language_info": {
   "codemirror_mode": {
    "name": "ipython",
    "version": 3
   },
   "file_extension": ".py",
   "mimetype": "text/x-python",
   "name": "python",
   "nbconvert_exporter": "python",
   "pygments_lexer": "ipython3",
   "version": "3.8.8"
  }
 },
 "nbformat": 4,
 "nbformat_minor": 5
}
